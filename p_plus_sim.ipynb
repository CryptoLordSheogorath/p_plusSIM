{
 "cells": [
  {
   "cell_type": "code",
   "execution_count": 1,
   "id": "9902a482",
   "metadata": {},
   "outputs": [],
   "source": [
    "import random"
   ]
  },
  {
   "cell_type": "code",
   "execution_count": 2,
   "id": "182d6fe1",
   "metadata": {},
   "outputs": [],
   "source": [
    "outcomes = []\n",
    "p_plus = 1\n",
    "mdb_plus = 1\n",
    "\n",
    "class holder():\n",
    "    def __init__(self):\n",
    "        self.p_plus = 1000\n",
    "        self.mdb_plus = 0\n",
    "    def inferno(self, p_plus = p_plus, mdb_plus = mdb_plus):\n",
    "        value = self.p_plus * p_plus\n",
    "        if value > 0:\n",
    "            value = value * .94\n",
    "            self.mdb_plus = (value / mdb_plus)\n",
    "            self.p_plus = 0\n",
    "    def buy_back(self, p_plus = p_plus, mdb_plus = mdb_plus):\n",
    "        value = self.mdb_plus * mdb_plus\n",
    "        value = value * .98\n",
    "        self.p_plus = (value / p_plus)\n",
    "        self.mdb_plus = 0\n",
    "    def __repr__(self):\n",
    "        return(\"MDB+: {0}\\nP+: {1}\".format(self.mdb_plus, self.p_plus))\n",
    "        \n",
    "def update_prices(p_plus, mdb_plus):\n",
    "    #Multiplyers derived from APY to APR calculator\n",
    "    p_plus = p_plus * (1.0046)\n",
    "    mdb_plus = mdb_plus * (1.0009)\n",
    "    return(p_plus, mdb_plus)\n",
    "    \n",
    "def strategy1(holder):\n",
    "    p_plus = 1\n",
    "    mdb_plus = 1\n",
    "    for i in range(0, 365):\n",
    "        p_plus, mdb_plus = update_prices(p_plus, mdb_plus)\n",
    "        if not random.randint(0,20):\n",
    "            holder.inferno(p_plus, mdb_plus)\n",
    "            holder.buy_back(p_plus, mdb_plus)\n",
    "        if p_plus < mdb_plus:\n",
    "            raise ValueError(\"What the fuck\")\n",
    "    if holder.mdb_plus > 0:\n",
    "        holder.buy_back(p_plus, mdb_plus)\n",
    "    return(holder)\n",
    "    \n",
    "        "
   ]
  },
  {
   "cell_type": "code",
   "execution_count": 26,
   "id": "607e6f15",
   "metadata": {},
   "outputs": [
    {
     "name": "stdout",
     "output_type": "stream",
     "text": [
      "Top holder: MDB+: 0\n",
      "P+: 781.7390161279998\n",
      "Bottom Holder: MDB+: 0\n",
      "P+: 44.20275244380472\n",
      "Median Holder: MDB+: 0\n",
      "P+: 247.75178830725915\n",
      "Avg Holder: \n"
     ]
    }
   ],
   "source": [
    "l1 = []\n",
    "for i in range(100000):\n",
    "    hodler = holder()\n",
    "    l1.append(strategy1(hodler))\n",
    "l1 = sorted(l1,key = lambda x: x.p_plus)\n",
    "values = []\n",
    "for i in range(len(l1)):\n",
    "    values.append(l1[i].p_plus)\n",
    "print('Top holder: {0}\\nBottom Holder: {1}\\nMedian Holder: {2}\\nAvg Holder: {3} '.format(l1[-1], l1[0], (l1[int(len(l1)/2)]),(sum(values)/len(values))))\n"
   ]
  },
  {
   "cell_type": "code",
   "execution_count": 27,
   "id": "2a5eeb75",
   "metadata": {},
   "outputs": [
    {
     "data": {
      "text/plain": [
       "Text(0.5, 0, '365 days of P+ auto-rebuy')"
      ]
     },
     "execution_count": 27,
     "metadata": {},
     "output_type": "execute_result"
    },
    {
     "data": {
      "image/png": "[encoded data removed]",
      "text/plain": [
       "<Figure size 640x480 with 1 Axes>"
      ]
     },
     "metadata": {},
     "output_type": "display_data"
    }
   ],
   "source": [
    "plt.plot(values)\n",
    "plt.ylabel('P+ held')\n",
    "plt.xlabel('365 days of P+ auto-rebuy')\n"
   ]
  },
  {
   "cell_type": "code",
   "execution_count": null,
   "id": "3b99efa8",
   "metadata": {},
   "outputs": [],
   "source": []
  }
 ],
 "metadata": {
  "kernelspec": {
   "display_name": "Python 3 (ipykernel)",
   "language": "python",
   "name": "python3"
  },
  "language_info": {
   "codemirror_mode": {
    "name": "ipython",
    "version": 3
   },
   "file_extension": ".py",
   "mimetype": "text/x-python",
   "name": "python",
   "nbconvert_exporter": "python",
   "pygments_lexer": "ipython3",
   "version": "3.9.13"
  }
 },
 "nbformat": 4,
 "nbformat_minor": 5
}
